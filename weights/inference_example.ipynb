{
  "nbformat": 4,
  "nbformat_minor": 0,
  "metadata": {
    "colab": {
      "provenance": []
    },
    "kernelspec": {
      "name": "python3",
      "display_name": "Python 3"
    },
    "language_info": {
      "name": "python"
    }
  },
  "cells": [
    {
      "cell_type": "code",
      "execution_count": 7,
      "metadata": {
        "id": "XbEIPBRCo2AD"
      },
      "outputs": [],
      "source": [
        "import xgboost as xgb\n",
        "import numpy as np\n",
        "import pandas as pd\n",
        "from sklearn.preprocessing import LabelEncoder\n",
        "from xgboost import XGBClassifier\n",
        "import joblib"
      ]
    },
    {
      "cell_type": "code",
      "source": [
        "def predict_all(input_data):\n",
        "    \"\"\"\n",
        "    Predict organik_madde, saturasyon, ph, and classify the top 2 urun (products) using trained models and label encoders.\n",
        "\n",
        "    Parameters:\n",
        "    - input_data: A dictionary containing the input features with original string values.\n",
        "\n",
        "    Returns:\n",
        "    - A dictionary with both encoded and original values along with predictions.\n",
        "    \"\"\"\n",
        "\n",
        "    # Load the models\n",
        "    model_organik = xgb.Booster()\n",
        "    model_organik.load_model('xgb_model_organik_madde.model')\n",
        "\n",
        "    model_saturasyon = xgb.Booster()\n",
        "    model_saturasyon.load_model('xgb_model_saturasyon.model')\n",
        "\n",
        "    model_kirec = xgb.Booster()  # Replace ph with kirec\n",
        "    model_kirec.load_model('xgb_model_kirec.model')\n",
        "\n",
        "    xgb_model = XGBClassifier()\n",
        "    xgb_model.load_model('xgb_classifier.model')  # Load your XGBClassifier model file\n",
        "\n",
        "    # Load the label encoders\n",
        "    label_encoder_ilce = joblib.load('label_encoder_ilce.pkl')\n",
        "    label_encoder_tarim = joblib.load('label_encoder_tarim.pkl')\n",
        "    label_encoder_urun = joblib.load('label_encoder_urun.pkl')\n",
        "\n",
        "    # Ensure the loaded objects are LabelEncoders\n",
        "    if not isinstance(label_encoder_ilce, LabelEncoder):\n",
        "        raise Exception(\"label_encoder_ilce is not a LabelEncoder instance\")\n",
        "    if not isinstance(label_encoder_tarim, LabelEncoder):\n",
        "        raise Exception(\"label_encoder_tarim is not a LabelEncoder instance\")\n",
        "    if not isinstance(label_encoder_urun, LabelEncoder):\n",
        "        raise Exception(\"label_encoder_urun is not a LabelEncoder instance\")\n",
        "\n",
        "    # Store original string values before encoding\n",
        "    original_ilce = input_data['ilce_encoded']\n",
        "    original_tarim_sekli = input_data['tarim_sekli_encoded']\n",
        "\n",
        "    # Encode the categorical values using the label encoders\n",
        "    input_data['ilce_encoded'] = label_encoder_ilce.transform([input_data['ilce_encoded']])[0]\n",
        "    input_data['tarim_sekli_encoded'] = label_encoder_tarim.transform([input_data['tarim_sekli_encoded']])[0]\n",
        "\n",
        "    # Convert the input_data dictionary to a DataFrame for compatibility with DMatrix\n",
        "    input_df = pd.DataFrame([input_data])\n",
        "\n",
        "    # Step 1: Predict 'organik_madde'\n",
        "    dmatrix_input = xgb.DMatrix(input_df[['ilce_encoded', 'tarim_sekli_encoded', 'potasyum', 'fosfor', 'ph']])  # Removed 'toplam_tuz'\n",
        "    predicted_organik_madde = model_organik.predict(dmatrix_input)\n",
        "\n",
        "    # Step 2: Predict 'saturasyon' using predicted 'organik_madde'\n",
        "    input_df['organik_madde'] = predicted_organik_madde\n",
        "    dmatrix_input_with_organik = xgb.DMatrix(input_df[['ilce_encoded', 'tarim_sekli_encoded', 'potasyum', 'fosfor', 'ph', 'organik_madde']])  # Removed 'toplam_tuz'\n",
        "    predicted_saturasyon = model_saturasyon.predict(dmatrix_input_with_organik)\n",
        "\n",
        "    # Step 3: Predict 'kirec' using predicted 'saturasyon' (replace ph with kirec)\n",
        "    input_df['saturasyon'] = predicted_saturasyon\n",
        "    dmatrix_input_with_saturasyon = xgb.DMatrix(input_df[['ilce_encoded', 'tarim_sekli_encoded', 'potasyum', 'fosfor', 'ph', 'saturasyon']])  # Removed 'toplam_tuz'\n",
        "    predicted_kirec = model_kirec.predict(dmatrix_input_with_saturasyon)\n",
        "\n",
        "    # Add the predictions back to the input_data dictionary\n",
        "    input_data['organikMadde'] = predicted_organik_madde[0]\n",
        "    input_data['saturasyon'] = predicted_saturasyon[0]\n",
        "    input_data['kirec'] = predicted_kirec[0]  # Replaced 'ph' with 'kirec'\n",
        "\n",
        "    # Step 4: Use the classification model to predict 'urun'\n",
        "    input_df['kirec'] = predicted_kirec  # Replaced 'ph' with 'kirec'\n",
        "    # Create the full feature set for classification\n",
        "    classification_features = input_df[['ilce_encoded', 'tarim_sekli_encoded', 'potasyum', 'fosfor', 'ph', 'organik_madde', 'saturasyon', 'kirec']]  # Removed 'toplam_tuz'\n",
        "\n",
        "    # # Predict the encoded product (urun) and get the probabilities\n",
        "    class_probabilities = xgb_model.predict_proba(classification_features)\n",
        "\n",
        "    # # Get the indices of the top 2 classes with highest probabilities\n",
        "    top_2_indices = np.argsort(class_probabilities[0])[-2:][::-1]\n",
        "\n",
        "    # # Decode the top 2 predicted 'urun' labels\n",
        "    top_2_urun = label_encoder_urun.inverse_transform(top_2_indices)\n",
        "\n",
        "    # # Add the top 2 predicted 'urun' to the input_data dictionary\n",
        "    input_data['urun'] = top_2_urun.tolist()\n",
        "\n",
        "    # Return both encoded and original versions of ilce and tarim sekli with predictions\n",
        "    return {\n",
        "        'ilce_encoded': input_data['ilce_encoded'],\n",
        "        'ilce': original_ilce,\n",
        "        'tarim_sekli_encoded': input_data['tarim_sekli_encoded'],\n",
        "        'tarim_sekli': original_tarim_sekli,\n",
        "        'potasyum': input_data['potasyum'],\n",
        "        'fosfor': input_data['fosfor'],\n",
        "        'ph': input_data['ph'],  # Changed to 'ph'\n",
        "        'organikMadde': max(0, input_data['organikMadde']),\n",
        "        'saturasyon':max(0, input_data['saturasyon']),\n",
        "        'kirec': max(0, input_data['kirec']),  # Changed 'ph' to 'kirec'\n",
        "        'urun': input_data['urun']  # Top 2 predicted products\n",
        "    }\n"
      ],
      "metadata": {
        "id": "eQ3Er03so2x8"
      },
      "execution_count": 14,
      "outputs": []
    },
    {
      "cell_type": "code",
      "source": [
        "# Example of input data as a dictionary (original input with string values)\n",
        "input_data = {\n",
        "    'ilce_encoded': \"aksu\",  # Original string value\n",
        "    'tarim_sekli_encoded': \"sulu\",  # Original string value\n",
        "    'potasyum': 120,\n",
        "    'fosfor': 70,\n",
        "    'ph': 7.5,\n",
        "}\n",
        "\n",
        "# Call the unified function to predict the results\n",
        "output_data = predict_all(input_data)\n",
        "\n",
        "# Print the output data\n",
        "print(\"Predicted Output Data:\")\n",
        "print(output_data)"
      ],
      "metadata": {
        "colab": {
          "base_uri": "https://localhost:8080/"
        },
        "id": "kGSt1BFVo20V",
        "outputId": "8dfae3db-8304-4671-8cc7-afc2cbd17093"
      },
      "execution_count": 15,
      "outputs": [
        {
          "output_type": "stream",
          "name": "stdout",
          "text": [
            "Predicted Output Data:\n",
            "{'ilce_encoded': 0, 'ilce': 'aksu', 'tarim_sekli_encoded': 1, 'tarim_sekli': 'sulu', 'potasyum': 120, 'fosfor': 70, 'ph': 7.5, 'organikMadde': 3.073654, 'saturasyon': 58.109818, 'kirec': 0, 'urun': ['biber', 'cim']}\n"
          ]
        },
        {
          "output_type": "stream",
          "name": "stderr",
          "text": [
            "/usr/local/lib/python3.10/dist-packages/xgboost/core.py:158: UserWarning: [07:25:35] WARNING: /workspace/src/learner.cc:1070: Loading model from XGBoost < 1.0.0, consider saving it again for improved compatibility\n",
            "  warnings.warn(smsg, UserWarning)\n"
          ]
        }
      ]
    },
    {
      "cell_type": "code",
      "source": [],
      "metadata": {
        "id": "SQRX3QZ2pBjc"
      },
      "execution_count": 11,
      "outputs": []
    }
  ]
}